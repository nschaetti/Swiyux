{
 "cells": [
  {
   "cell_type": "code",
   "id": "initial_id",
   "metadata": {
    "collapsed": true,
    "ExecuteTime": {
     "end_time": "2025-09-24T17:59:43.070099Z",
     "start_time": "2025-09-24T17:59:43.004316Z"
    }
   },
   "source": "from tpm2_pytss import *",
   "outputs": [],
   "execution_count": 1
  },
  {
   "metadata": {
    "ExecuteTime": {
     "end_time": "2025-09-24T18:04:17.001549Z",
     "start_time": "2025-09-24T18:04:11.993938Z"
    }
   },
   "cell_type": "code",
   "source": [
    "# Open a TPM context\n",
    "with ESAPI() as e:\n",
    "    # Define a primary key (RSA 2024, SHA256)\n",
    "    inPublic = TPM2B_PUBLIC(\n",
    "        publicArea=TPMT_PUBLIC(\n",
    "            type=TPM2_ALG.RSA,\n",
    "            nameAlg=TPM2_ALG.SHA256,\n",
    "            objectAttributes=(\n",
    "                TPMA_OBJECT.SIGN_ENCRYPT\n",
    "                | TPMA_OBJECT.USERWITHAUTH\n",
    "                | TPMA_OBJECT.SENSITIVEDATAORIGIN\n",
    "            ),\n",
    "            parameters=TPMU_PUBLIC_PARMS(\n",
    "                rsaDetail=TPMS_RSA_PARMS(\n",
    "                    scheme=TPMT_RSA_SCHEME(scheme=TPM2_ALG.NULL),\n",
    "                    keyBits=2048,\n",
    "                    exponent=0,\n",
    "                    symmetric=TPMT_SYM_DEF_OBJECT(algorithm=TPM2_ALG.NULL),\n",
    "                )\n",
    "            ),\n",
    "            unique=TPMU_PUBLIC_ID(rsa=TPM2B_PUBLIC_KEY_RSA()),\n",
    "        )\n",
    "    )\n",
    "\n",
    "    # Create the key in the OWNER hierarchy\n",
    "    handle, outPublic, _, _, _ = e.create_primary(\n",
    "        primary_handle=ESYS_TR.OWNER,\n",
    "        in_sensitive=TPM2B_SENSITIVE_CREATE(),\n",
    "        in_public=inPublic,\n",
    "        outside_info=TPM2B_DATA(),\n",
    "        creation_pcr=TPML_PCR_SELECTION(),\n",
    "    )\n",
    "\n",
    "    # Get the public key\n",
    "    pub_key = outPublic.publicArea.unique.rsa.buffer\n",
    "    print(\"Clé publique (hex):\", pub_key.hex())\n",
    "# end with"
   ],
   "id": "98d208146bfdd625",
   "outputs": [
    {
     "name": "stdout",
     "output_type": "stream",
     "text": [
      "Clé publique (hex): b0ea35b2f1854a051620f9d8c2cf1ccd2b2e84ef5dbb4f1c66d83c308e6dae8bcb250c3120a2ac70e6b30db238b7ca6e0bbe3e3937083ad4798af89d21ca8e8b9fcb018fee4909c1a67c8a2fb86ccf7d905d69ee415272ae7512126d7312562e8be4806041dfcee9011b18988b54da7e304280c15799b770ebce90ad0ecc17475d09b5e19d3c3333ad32294de76199578724f17acaa9d36a88aa496cae372bbbde37f16cf090f35fa6ec7b5d8912059c5d3380542b56f781ea731548cfbaa08d930b9c6f3acd397bf380515325bc435d29fa69e86bf7cef5cc848ade3a1fdce3e649f370e236a75dd8726d14e0f4aaff2dfe871dd8b303f5fdd674126b080b6d\n"
     ]
    }
   ],
   "execution_count": 8
  },
  {
   "metadata": {
    "ExecuteTime": {
     "end_time": "2025-09-24T18:19:36.560727Z",
     "start_time": "2025-09-24T18:19:36.524960Z"
    }
   },
   "cell_type": "code",
   "source": [
    "esys = ESAPI()\n",
    "\n",
    "TPM2_PERSISTENT_FIRST = 0x81000000\n",
    "TPM2_PERSISTENT_LAST = 0x81FFFFFF\n",
    "\n",
    "# Lister les handles persistants\n",
    "more_data, capability_data = esys.get_capability(\n",
    "    capability=TPM2_CAP.HANDLES,\n",
    "    prop=TPM2_PERSISTENT_FIRST,\n",
    "    property_count=TPM2_PERSISTENT_LAST - TPM2_PERSISTENT_FIRST + 1,\n",
    ")\n",
    "\n",
    "print(\"Handles persistants dans le TPM :\")\n",
    "for h in capability_data.data.handles:\n",
    "    print(f\"- Handle: {hex(h)}\")\n",
    "    # Conversion TPM2_HANDLE -> ESYS_TR\n",
    "    tr_handle = esys.tr_from_tpmpublic(h)\n",
    "    out_public, name, qualified_name = esys.read_public(tr_handle)\n",
    "    print(f\"  Algorithme: {out_public.publicArea.type}\")\n",
    "    if out_public.publicArea.type == TPM2_ALG.RSA:\n",
    "        print(f\"  Taille clé RSA: {out_public.publicArea.parameters.rsaDetail.keyBits}\")\n",
    "    elif out_public.publicArea.type == TPM2_ALG.ECC:\n",
    "        print(f\"  Courbe ECC: {out_public.publicArea.parameters.eccDetail.curveID}\")"
   ],
   "id": "54a231a18f6842e4",
   "outputs": [
    {
     "name": "stdout",
     "output_type": "stream",
     "text": [
      "Handles persistants dans le TPM :\n",
      "- Handle: 0x81000001\n",
      "  Algorithme: rsa\n",
      "  Taille clé RSA: 2048\n",
      "- Handle: 0x81000002\n",
      "  Algorithme: rsa\n",
      "  Taille clé RSA: 2048\n",
      "- Handle: 0x81010001\n",
      "  Algorithme: rsa\n",
      "  Taille clé RSA: 2048\n"
     ]
    }
   ],
   "execution_count": 20
  },
  {
   "metadata": {
    "ExecuteTime": {
     "end_time": "2025-09-24T18:33:41.829280Z",
     "start_time": "2025-09-24T18:33:41.804851Z"
    }
   },
   "cell_type": "code",
   "source": [
    "ek_handle = esys.tr_from_tpmpublic(0x81000002)\n",
    "out_public, name, qualified_name = esys.read_public(ek_handle)\n",
    "print(\"EK publique (hex):\", out_public.publicArea.unique.rsa.buffer.hex())"
   ],
   "id": "d9ceaf3a7a9481d1",
   "outputs": [
    {
     "name": "stdout",
     "output_type": "stream",
     "text": [
      "EK publique (hex): c2ecec2fe9d5946276e5760fc33bfe05e6c69d07eadb1f5b4a9269c0b7cf1e9f9f6035ad5e161e79b91bad318159f7e8d82a7929919dfe097c74f4b0d1e913ca4487a83f41edae5f02331e661470ab403018221018fc84bc0a0b53eb922637df53515adb254a183bada5ea791bc83ea196bde2959bae308570c2007ca4ecadb6d3b56bd18a9f49b1f089c1e1c35a16afc705bdb5571712bdee31ef7ae7071eb3cd0f458d77b3a00f56b57fa0bc8c2eb955f0f97c36dd3108c637e9c27937aa28bc8637aa31daf1e902f2ebd1dfaf1ed2cca4e519f0e8b36deb18366b8e862940f496dd92aa9875b4336e3285a123f77c08f99314fdbf377ce61bd3bc9d051015\n"
     ]
    }
   ],
   "execution_count": 21
  },
  {
   "metadata": {
    "ExecuteTime": {
     "end_time": "2025-09-24T18:42:41.400352Z",
     "start_time": "2025-09-24T18:42:41.367541Z"
    }
   },
   "cell_type": "code",
   "source": [
    "from tpm2_pytss import *\n",
    "import hashlib\n",
    "\n",
    "esys = ESAPI()\n",
    "\n",
    "msg = b\"Hello from my TPM!\"\n",
    "digest = hashlib.sha256(msg).digest()\n",
    "\n",
    "# Charger l’EK (persistante à 0x81000002)\n",
    "ek_handle = esys.tr_from_tpmpublic(0x81000002)\n",
    "\n",
    "# Préparer le digest TPM2\n",
    "tpm_digest = TPM2B_DIGEST(buffer=digest)\n",
    "\n",
    "# Schéma de signature : RSASSA + SHA256\n",
    "in_scheme = TPMT_SIG_SCHEME(\n",
    "    scheme=TPM2_ALG.RSASSA,\n",
    "    details=TPMU_SIG_SCHEME(\n",
    "        rsassa=TPMS_SIG_SCHEME_RSASSA(hashAlg=TPM2_ALG.SHA256)   # 👈 ici un objet structuré\n",
    "    )\n",
    ")\n",
    "\n",
    "# Tenter une signature avec l’EK\n",
    "try:\n",
    "    signature = esys.sign(\n",
    "        ek_handle,\n",
    "        digest=tpm_digest,\n",
    "        inScheme=in_scheme,\n",
    "        validation=None\n",
    "    )\n",
    "    print(\"Signature brute (hex):\", signature.signature.rsassa.sig.hex())\n",
    "except TSS2_Exception as e:\n",
    "    print(\"⚠️ Le TPM refuse de signer avec l’EK :\", e)\n"
   ],
   "id": "59326048d3537bcb",
   "outputs": [
    {
     "ename": "NameError",
     "evalue": "name 'TPMS_SIG_SCHEME_RSASSA' is not defined",
     "output_type": "error",
     "traceback": [
      "\u001B[0;31m---------------------------------------------------------------------------\u001B[0m",
      "\u001B[0;31mNameError\u001B[0m                                 Traceback (most recent call last)",
      "Cell \u001B[0;32mIn[29], line 19\u001B[0m\n\u001B[1;32m     13\u001B[0m tpm_digest \u001B[38;5;241m=\u001B[39m TPM2B_DIGEST(buffer\u001B[38;5;241m=\u001B[39mdigest)\n\u001B[1;32m     15\u001B[0m \u001B[38;5;66;03m# Schéma de signature : RSASSA + SHA256\u001B[39;00m\n\u001B[1;32m     16\u001B[0m in_scheme \u001B[38;5;241m=\u001B[39m TPMT_SIG_SCHEME(\n\u001B[1;32m     17\u001B[0m     scheme\u001B[38;5;241m=\u001B[39mTPM2_ALG\u001B[38;5;241m.\u001B[39mRSASSA,\n\u001B[1;32m     18\u001B[0m     details\u001B[38;5;241m=\u001B[39mTPMU_SIG_SCHEME(\n\u001B[0;32m---> 19\u001B[0m         rsassa\u001B[38;5;241m=\u001B[39m\u001B[43mTPMS_SIG_SCHEME_RSASSA\u001B[49m(hashAlg\u001B[38;5;241m=\u001B[39mTPM2_ALG\u001B[38;5;241m.\u001B[39mSHA256)   \u001B[38;5;66;03m# 👈 ici un objet structuré\u001B[39;00m\n\u001B[1;32m     20\u001B[0m     )\n\u001B[1;32m     21\u001B[0m )\n\u001B[1;32m     23\u001B[0m \u001B[38;5;66;03m# Tenter une signature avec l’EK\u001B[39;00m\n\u001B[1;32m     24\u001B[0m \u001B[38;5;28;01mtry\u001B[39;00m:\n",
      "\u001B[0;31mNameError\u001B[0m: name 'TPMS_SIG_SCHEME_RSASSA' is not defined"
     ]
    }
   ],
   "execution_count": 29
  },
  {
   "metadata": {},
   "cell_type": "code",
   "outputs": [],
   "execution_count": null,
   "source": "",
   "id": "2dff85b48f58a566"
  }
 ],
 "metadata": {
  "kernelspec": {
   "display_name": "Python 3",
   "language": "python",
   "name": "python3"
  },
  "language_info": {
   "codemirror_mode": {
    "name": "ipython",
    "version": 2
   },
   "file_extension": ".py",
   "mimetype": "text/x-python",
   "name": "python",
   "nbconvert_exporter": "python",
   "pygments_lexer": "ipython2",
   "version": "2.7.6"
  }
 },
 "nbformat": 4,
 "nbformat_minor": 5
}
